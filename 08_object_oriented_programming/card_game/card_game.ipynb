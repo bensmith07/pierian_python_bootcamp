{
 "cells": [
  {
   "cell_type": "code",
   "execution_count": 32,
   "metadata": {},
   "outputs": [],
   "source": [
    "import random"
   ]
  },
  {
   "cell_type": "code",
   "execution_count": 28,
   "metadata": {},
   "outputs": [],
   "source": [
    "suits = ('hearts', 'diamonds', 'spades', 'clubs')\n",
    "ranks = ('2', '3', '4', '5', '6', '7', '8', \n",
    "         '9', '10', 'J', 'Q', 'K', 'A')\n",
    "\n",
    "values_dct = {\n",
    "    '2': 2,\n",
    "    '3': 3, \n",
    "    '4': 4,\n",
    "    '5': 5,\n",
    "    '6': 6,\n",
    "    '7': 7,\n",
    "    '8': 8,\n",
    "    '9': 9,\n",
    "    '10': 10,\n",
    "    'J': 11,\n",
    "    'Q': 12,\n",
    "    'K': 13,\n",
    "    'A': 14,\n",
    "}"
   ]
  },
  {
   "cell_type": "code",
   "execution_count": 24,
   "metadata": {},
   "outputs": [],
   "source": [
    "class Card:\n",
    "    \n",
    "    def __init__(self, rank, suit):\n",
    "        self.rank = str(rank).upper()\n",
    "        self.suit = suit.upper()\n",
    "        self.value = values_dct[self.rank]\n",
    "\n",
    "\n",
    "    def __str__(self):\n",
    "        return f'{self.rank} of {self.suit}'"
   ]
  },
  {
   "cell_type": "code",
   "execution_count": 51,
   "metadata": {},
   "outputs": [],
   "source": [
    "class Deck:\n",
    "\n",
    "    def __init__(self):\n",
    "        self.all_cards = []\n",
    "        for suit in suits:\n",
    "            for rank in ranks:\n",
    "                self.all_cards.append(\n",
    "                    Card(suit=suit, rank=rank)\n",
    "                )\n",
    "\n",
    "    def shuffle(self):\n",
    "        random.shuffle(self.all_cards)\n",
    "\n",
    "    def deal_one(self):\n",
    "        return self.all_cards.pop()\n",
    "        \n"
   ]
  },
  {
   "cell_type": "code",
   "execution_count": 75,
   "metadata": {},
   "outputs": [],
   "source": [
    "class Player:\n",
    "    \n",
    "    def __init__(self, name):\n",
    "        self.name = name\n",
    "        self.all_cards = []\n",
    "    \n",
    "    def remove_one(self):\n",
    "        return self.all_cards.pop(0)\n",
    "\n",
    "    def add_cards(self, new_cards):\n",
    "        if type(new_cards) == Card:\n",
    "            self.all_cards.append(new_cards)\n",
    "        elif type(new_cards) == type([]):\n",
    "            self.all_cards.extend(new_cards)\n",
    "\n",
    "\n",
    "\n",
    "    def __str__(self):\n",
    "        return f'Player {self.name} has {len(self.all_cards)} cards.'"
   ]
  },
  {
   "cell_type": "code",
   "execution_count": 116,
   "metadata": {},
   "outputs": [],
   "source": [
    "# GAME SETUP\n",
    "\n",
    "p1 = Player('Player 1')\n",
    "p2 = Player('Player 2')\n",
    "deck = Deck()\n",
    "\n",
    "# deal cards\n",
    "while len(deck.all_cards) > 0:\n",
    "    i = len(deck.all_cards)\n",
    "    if i % 2 == 0:\n",
    "        p1.add_cards(deck.deal_one())\n",
    "    else:\n",
    "        p2.add_cards(deck.deal_one())\n",
    "\n",
    "game_on = True\n",
    "round_num = 0\n",
    "while game_on:\n",
    "\n",
    "    round_num += 1\n",
    "    print(f'Round {round_num}')\n",
    "\n",
    "    # Check for win/loss status\n",
    "    if len(p1.all_cards == 0):\n",
    "        print(f'{p1.name} out of cards! {p2.name} wins!')\n",
    "        game_on = False\n",
    "    elif len(p2.all_cards == 0):\n",
    "        print(f'{p2.name} out of cards! {p1.name} wins!')\n",
    "        game_on = False\n",
    "\n",
    "    # start a new round\n",
    "    p1_cards = []\n",
    "    p1_cards.append(p1.remove_one())\n",
    "\n",
    "    p2_cards = []\n",
    "    p2_cards.append(p2.remove_one())\n",
    "\n",
    "    \n"
   ]
  },
  {
   "cell_type": "code",
   "execution_count": null,
   "metadata": {},
   "outputs": [],
   "source": []
  }
 ],
 "metadata": {
  "kernelspec": {
   "display_name": "base",
   "language": "python",
   "name": "python3"
  },
  "language_info": {
   "codemirror_mode": {
    "name": "ipython",
    "version": 3
   },
   "file_extension": ".py",
   "mimetype": "text/x-python",
   "name": "python",
   "nbconvert_exporter": "python",
   "pygments_lexer": "ipython3",
   "version": "3.9.7"
  },
  "orig_nbformat": 4
 },
 "nbformat": 4,
 "nbformat_minor": 2
}
